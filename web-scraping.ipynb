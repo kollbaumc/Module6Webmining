{
 "cells": [
  {
   "cell_type": "markdown",
   "metadata": {},
   "source": [
    "# Web Mining and Applied NLP (44-620)\n",
    "\n",
    "## Web Scraping and NLP with Requests, BeautifulSoup, and spaCy\n",
    "\n",
    "### Student Name: Chris Kollbaum\n",
    "\n",
    "https://github.com/kollbaumc/Module6Webmining\n",
    "\n",
    "Perform the tasks described in the Markdown cells below.  When you have completed the assignment make sure your code cells have all been run (and have output beneath them) and ensure you have committed and pushed ALL of your changes to your assignment repository.\n",
    "\n",
    "Every question that requires you to write code will have a code cell underneath it; you may either write your entire solution in that cell or write it in a python file (`.py`), then import and run the appropriate code to answer the question."
   ]
  },
  {
   "cell_type": "markdown",
   "metadata": {},
   "source": [
    "1. Write code that extracts the article html from https://web.archive.org/web/20210327165005/https://hackaday.com/2021/03/22/how-laser-headlights-work/ and dumps it to a .pkl (or other appropriate file)"
   ]
  },
  {
   "cell_type": "markdown",
   "metadata": {},
   "source": [
    "# Answer Question 1"
   ]
  },
  {
   "cell_type": "code",
   "execution_count": 3,
   "metadata": {},
   "outputs": [],
   "source": [
    "import requests\n",
    "import pickle\n",
    "article = requests.get(' https://web.archive.org/web/20210327165005/https://hackaday.com/2021/03/22/how-laser-headlights-work/')\n",
    "article_html = article.text\n",
    "\n",
    "with open('python-match.pkl', 'wb') as f:\n",
    "    pickle.dump(article.text, f)\n",
    "with open('python-match.pkl', 'rb') as f:\n",
    "    article_html = pickle.load(f)\n",
    "\n"
   ]
  },
  {
   "cell_type": "markdown",
   "metadata": {},
   "source": [
    "2. Read in your article's html source from the file you created in question 1 and print it's text (use `.get_text()`)"
   ]
  },
  {
   "cell_type": "markdown",
   "metadata": {},
   "source": [
    "# Answer Question 2"
   ]
  },
  {
   "cell_type": "code",
   "execution_count": 4,
   "metadata": {},
   "outputs": [
    {
     "name": "stdout",
     "output_type": "stream",
     "text": [
      "\n",
      "\n",
      "How Laser Headlights Work\n",
      "\n",
      "\n",
      "                130 Comments            \n",
      "\n",
      "by:\n",
      "Lewin Day\n",
      "\n",
      "\n",
      "\n",
      "March 22, 2021\n",
      "\n",
      "\n",
      "\n",
      "\n",
      "\n",
      "\n",
      "\n",
      "\n",
      "When we think about the onward march of automotive technology, headlights aren’t usually the first thing that come to mind. Engines, fuel efficiency, and the switch to electric power are all more front of mind. However, that doesn’t mean there aren’t thousands of engineers around the world working to improve the state of the art in automotive lighting day in, day out.\n",
      "Sealed beam headlights gave way to more modern designs once regulations loosened up, while bulbs moved from simple halogens to xenon HIDs and, more recently, LEDs. Now, a new technology is on the scene, with lasers!\n",
      "\n",
      "Laser Headlights?!\n",
      "BWM’s prototype laser headlight assemblies undergoing testing.\n",
      "The first image brought to mind by the phrase “laser headlights” is that of laser beams firing out the front of an automobile. Obviously, coherent beams of monochromatic light would make for poor illumination outside of a very specific spot quite some distance away. Thankfully for our eyes, laser headlights don’t work in this way at all.\n",
      "Instead, laser headlights consist of one or more solid state laser diodes mounted inside the headlight. These blue lasers are fired at a yellow phosphor, similar to that used in white LEDs. This produces a powerful, vibrant white light that can then be bounced off reflectors and out of the headlights towards the road. Laser headlights built in this way have several benefits. They’re more energy efficient than LEDs that put out the same amount of light, while also being more space efficient, too.\n",
      "BWM’s futuristic i8 was one of the first vehicles to ship with laser headlight technology.\n",
      "Laser headlights are still a nascent technology, thus far only appearing in a few BMW, Audi, and other select vehicles. BMW’s technology was developed in partnership with lighting experts OSRAM. In practice, a regular LED low-beam lamp is used, with the laser used to create an incredibly bright and focused spot, used for high-beams. This can provide illumination out to 600 meters ahead of the vehicle, double that of conventional LED high beams. The lights use indium gallium nitride diode lasers that were originally used in projectors, with power levels above 1 watt. One of the challenges in implementing such technology in an automotive environment is the need for it to operate at temperature extremes. While research lasers and laser pointers may primarily be used at typical room temperatures, automotive headlights must be able to withstand everything from 40 degrees below zero up to 50 degrees C. Thankfully, the laser’s high efficiency means it doesn’t have huge heat output of its own to further complicate things. Other engineering challenges involve tailoring the optics package for the rough-and-tumble, high vibration environment found in the automotive application. It’s also important to ensure, as with any such device, that the end user can’t be exposed to harmful laser radiation in the event of accident or malfunction.\n",
      "Tearing Down the Laser Headlight\n",
      "A marketing image showing the construction of an aftermarket LED/laser headlight. We’d take the laser power with a grain of salt — it’s difficult to imagine a 10 W laser shining directly on some small LEDs without melting a hole through the board in short order.\n",
      "An aftermarket has sprung up too, with delightfully innovative designs. Combined laser/LED headlights are readily available on Alibaba, designed as a drop in replacement for projector lamps on existing vehicles. These often use an LED low-beam, and a combined LED/laser high beam, where the laser diode shoots directly at the LED phosphor to excite it further, rather than using its own. These units often also come with fan cooling to keep the laser and LEDs below their maximum operational temperature. Such developments are exciting, though it’s important to be wary of the performance of unknown aftermarket headlights. Many aftermarket LED headlight “upgrades” fail to pass muster when it comes to real-world performance, and there’s no reason to believe hybrid LED/laser designs will be any different. We’d love to pass a selection of these parts through a full IIHS test protocol, but that’s sadly beyond the scope (and budget!) of this article.\n",
      "However, [mikeselectricstuff] has happened to lay his hands on both the BMW and aftermarket parts, tearing them all down in his workshop to see what makes them tick. The differences are multitude when laid bare on the bench. The AliExpress part is relatively simple, wired up no differently from a regular headlight. Interestingly, however, the laser high-beam circuit runs all the time in these parts. To prevent blinding other road users, a shutter is kept in place to block the light, which is moved out of the way with a solenoid when the driver turns on the high beam switch.\n",
      "Where the aftermarket part is a little out of left field, the BMW design is another thing entirely. The cutting-edge headlights are hooked up with multiple connectors and over 30 conductors, with much of the driver electronics living in an external controller. Much of this is to drive the various LEDs and stepper motors for slewing the headlights when steering. However, the laser assembly brings its own complexities. Twin light sensors are built inside to monitor the laser beam, and a special metal blocking arm sits directly in front of the diode, presumably to stop the laser light leaving the headlight in the event the phosphor coating burns through. It’s truly wild to get a look inside a modern luxury car’s headlight and see just how far we’ve come from the old days of simple sealed beams.\n",
      "Cost Versus Performance\n",
      "Despite the efficiency gains available, the technology remains expensive. Powerful laser diodes don’t come cheap, after all. However, as the technology trickles down to lower-end models, it’s likely that we could see economies of scale change that for the better. Indeed, if national authorities begin to demand higher performance headlights as standard, we could see laser headlights become the norm, rather than an expensive luxury. The technology could naturally be applied to home and commercial lighting, too — though we suspect the potential gains are limited enough that LED lighting will remain the norm for some time to come.\n",
      "The high light output of laser headlights in a compact package allows engineers greater freedom when designing the front-end of a car.\n",
      "As it currently stands, much of the appeal of the new technology is about the packaging benefits, which allow automotive designers greater freedom around the headlight area. Such concerns are less of a factor when it comes to light fittings in the home or office, or indeed, on lower-end automobiles. Regardless, it’s an exciting new application for lasers and one we’ll be sure to see more of in the future.\n",
      " \n",
      "\n",
      "\n",
      "\n",
      "\n",
      " \n",
      "\n",
      "\n",
      "\n",
      "\n",
      "\n",
      "\n",
      "\n",
      "\n",
      "\n",
      "\n",
      "\n",
      "\n",
      "\n",
      "\n",
      "\n",
      "\n",
      "\n",
      "\n",
      "\n",
      "Posted in car hacks, Engineering, Featured, Laser Hacks, SliderTagged laser, laser headlight, laser headlights, light \n",
      "\n"
     ]
    }
   ],
   "source": [
    "from bs4 import BeautifulSoup\n",
    "\n",
    "parser = 'html.parser'\n",
    "s = BeautifulSoup(article_html, parser)\n",
    "article_element = s.find('article')\n",
    "\n",
    "print(article_element.get_text())\n"
   ]
  },
  {
   "cell_type": "markdown",
   "metadata": {},
   "source": [
    "3. Load the article text into a trained `spaCy` pipeline, and determine the 5 most frequent tokens (converted to lower case).  Print the common tokens with an appropriate label.  Additionally, print the tokens their frequencies (with appropriate labels). Make sure to remove things we don't care about (punctuation, stopwords, whitespace)."
   ]
  },
  {
   "cell_type": "markdown",
   "metadata": {},
   "source": [
    "# Answer Question 3"
   ]
  },
  {
   "cell_type": "code",
   "execution_count": 5,
   "metadata": {},
   "outputs": [
    {
     "name": "stdout",
     "output_type": "stream",
     "text": [
      "['laser', 'headlights', 'work', '130', 'comments', 'lewin', 'day', 'march', '22', '2021', 'think', 'onward', 'march', 'automotive', 'technology', 'headlights', 'usually', 'thing', 'come', 'mind', 'engines', 'fuel', 'efficiency', 'switch', 'electric', 'power', 'mind', 'mean', 'thousands', 'engineers', 'world', 'working', 'improve', 'state', 'art', 'automotive', 'lighting', 'day', 'day', 'sealed', 'beam', 'headlights', 'gave', 'way', 'modern', 'designs', 'regulations', 'loosened', 'bulbs', 'moved', 'simple', 'halogens', 'xenon', 'hids', 'recently', 'leds', 'new', 'technology', 'scene', 'lasers', 'laser', 'headlights', 'bwm', 'prototype', 'laser', 'headlight', 'assemblies', 'undergoing', 'testing', 'image', 'brought', 'mind', 'phrase', 'laser', 'headlights', 'laser', 'beams', 'firing', 'automobile', 'obviously', 'coherent', 'beams', 'monochromatic', 'light', 'poor', 'illumination', 'outside', 'specific', 'spot', 'distance', 'away', 'thankfully', 'eyes', 'laser', 'headlights', 'work', 'way', 'instead', 'laser', 'headlights', 'consist', 'solid', 'state', 'laser', 'diodes', 'mounted', 'inside', 'headlight', 'blue', 'lasers', 'fired', 'yellow', 'phosphor', 'similar', 'white', 'leds', 'produces', 'powerful', 'vibrant', 'white', 'light', 'bounced', 'reflectors', 'headlights', 'road', 'laser', 'headlights', 'built', 'way', 'benefits', 'energy', 'efficient', 'leds', 'light', 'space', 'efficient', 'bwm', 'futuristic', 'i8', 'vehicles', 'ship', 'laser', 'headlight', 'technology', 'laser', 'headlights', 'nascent', 'technology', 'far', 'appearing', 'bmw', 'audi', 'select', 'vehicles', 'bmw', 'technology', 'developed', 'partnership', 'lighting', 'experts', 'osram', 'practice', 'regular', 'led', 'low', 'beam', 'lamp', 'laser', 'create', 'incredibly', 'bright', 'focused', 'spot', 'high', 'beams', 'provide', 'illumination', '600', 'meters', 'ahead', 'vehicle', 'double', 'conventional', 'led', 'high', 'beams', 'lights', 'use', 'indium', 'gallium', 'nitride', 'diode', 'lasers', 'originally', 'projectors', 'power', 'levels', '1', 'watt', 'challenges', 'implementing', 'technology', 'automotive', 'environment', 'need', 'operate', 'temperature', 'extremes', 'research', 'lasers', 'laser', 'pointers', 'primarily', 'typical', 'room', 'temperatures', 'automotive', 'headlights', 'able', 'withstand', '40', 'degrees', 'zero', '50', 'degrees', 'c.', 'thankfully', 'laser', 'high', 'efficiency', 'means', 'huge', 'heat', 'output', 'complicate', 'things', 'engineering', 'challenges', 'involve', 'tailoring', 'optics', 'package', 'rough', 'tumble', 'high', 'vibration', 'environment', 'found', 'automotive', 'application', 'important', 'ensure', 'device', 'end', 'user', 'exposed', 'harmful', 'laser', 'radiation', 'event', 'accident', 'malfunction', 'tearing', 'laser', 'headlight', 'marketing', 'image', 'showing', 'construction', 'aftermarket', 'led', 'laser', 'headlight', 'laser', 'power', 'grain', 'salt', 'difficult', 'imagine', '10', 'w', 'laser', 'shining', 'directly', 'small', 'leds', 'melting', 'hole', 'board', 'short', 'order', 'aftermarket', 'sprung', 'delightfully', 'innovative', 'designs', 'combined', 'laser', 'led', 'headlights', 'readily', 'available', 'alibaba', 'designed', 'drop', 'replacement', 'projector', 'lamps', 'existing', 'vehicles', 'use', 'led', 'low', 'beam', 'combined', 'led', 'laser', 'high', 'beam', 'laser', 'diode', 'shoots', 'directly', 'led', 'phosphor', 'excite', 'units', 'come', 'fan', 'cooling', 'laser', 'leds', 'maximum', 'operational', 'temperature', 'developments', 'exciting', 'important', 'wary', 'performance', 'unknown', 'aftermarket', 'headlights', 'aftermarket', 'led', 'headlight', 'upgrades', 'fail', 'pass', 'muster', 'comes', 'real', 'world', 'performance', 'reason', 'believe', 'hybrid', 'led', 'laser', 'designs', 'different', 'love', 'pass', 'selection', 'parts', 'iihs', 'test', 'protocol', 'sadly', 'scope', 'budget', 'article', 'mikeselectricstuff', 'happened', 'lay', 'hands', 'bmw', 'aftermarket', 'parts', 'tearing', 'workshop', 'makes', 'tick', 'differences', 'multitude', 'laid', 'bare', 'bench', 'aliexpress', 'relatively', 'simple', 'wired', 'differently', 'regular', 'headlight', 'interestingly', 'laser', 'high', 'beam', 'circuit', 'runs', 'time', 'parts', 'prevent', 'blinding', 'road', 'users', 'shutter', 'kept', 'place', 'block', 'light', 'moved', 'way', 'solenoid', 'driver', 'turns', 'high', 'beam', 'switch', 'aftermarket', 'little', 'left', 'field', 'bmw', 'design', 'thing', 'entirely', 'cutting', 'edge', 'headlights', 'hooked', 'multiple', 'connectors', '30', 'conductors', 'driver', 'electronics', 'living', 'external', 'controller', 'drive', 'leds', 'stepper', 'motors', 'slewing', 'headlights', 'steering', 'laser', 'assembly', 'brings', 'complexities', 'twin', 'light', 'sensors', 'built', 'inside', 'monitor', 'laser', 'beam', 'special', 'metal', 'blocking', 'arm', 'sits', 'directly', 'diode', 'presumably', 'stop', 'laser', 'light', 'leaving', 'headlight', 'event', 'phosphor', 'coating', 'burns', 'truly', 'wild', 'look', 'inside', 'modern', 'luxury', 'car', 'headlight', 'far', 'come', 'old', 'days', 'simple', 'sealed', 'beams', 'cost', 'versus', 'performance', 'despite', 'efficiency', 'gains', 'available', 'technology', 'remains', 'expensive', 'powerful', 'laser', 'diodes', 'come', 'cheap', 'technology', 'trickles', 'lower', 'end', 'models', 'likely', 'economies', 'scale', 'change', 'better', 'national', 'authorities', 'begin', 'demand', 'higher', 'performance', 'headlights', 'standard', 'laser', 'headlights', 'norm', 'expensive', 'luxury', 'technology', 'naturally', 'applied', 'home', 'commercial', 'lighting', 'suspect', 'potential', 'gains', 'limited', 'led', 'lighting', 'remain', 'norm', 'time', 'come', 'high', 'light', 'output', 'laser', 'headlights', 'compact', 'package', 'allows', 'engineers', 'greater', 'freedom', 'designing', 'end', 'car', 'currently', 'stands', 'appeal', 'new', 'technology', 'packaging', 'benefits', 'allow', 'automotive', 'designers', 'greater', 'freedom', 'headlight', 'area', 'concerns', 'factor', 'comes', 'light', 'fittings', 'home', 'office', 'lower', 'end', 'automobiles', 'regardless', 'exciting', 'new', 'application', 'lasers', 'sure', 'future', 'posted', 'car', 'hacks', 'engineering', 'featured', 'laser', 'hacks', 'slidertagged', 'laser', 'laser', 'headlight', 'laser', 'headlights', 'light']\n"
     ]
    }
   ],
   "source": [
    "import spacy\n",
    "nlp = spacy.load(\"en_core_web_sm\")\n",
    "doc = nlp(article_element.get_text())\n",
    "t = [token.text.lower() for token in doc if token.is_stop != True and token.is_punct != True and token.is_space != True]   \n",
    "print(t)"
   ]
  },
  {
   "cell_type": "code",
   "execution_count": 6,
   "metadata": {},
   "outputs": [
    {
     "name": "stdout",
     "output_type": "stream",
     "text": [
      "These are the common tokens in the text.\n",
      "[('laser', 35), ('headlights', 19), ('headlight', 11), ('technology', 10), ('led', 10)]\n"
     ]
    }
   ],
   "source": [
    "from collections import Counter\n",
    "word_freq = Counter(t)\n",
    "common_tokens = word_freq.most_common(5)\n",
    "print('These are the common tokens in the text.')\n",
    "print(common_tokens)"
   ]
  },
  {
   "cell_type": "markdown",
   "metadata": {},
   "source": [
    "4. Load the article text into a trained `spaCy` pipeline, and determine the 5 most frequent lemmas (converted to lower case).  Print the common lemmas with an appropriate label.  Additionally, print the lemmas with their frequencies (with appropriate labels). Make sure to remove things we don't care about (punctuation, stopwords, whitespace)."
   ]
  },
  {
   "cell_type": "markdown",
   "metadata": {},
   "source": [
    "# Answer Question 4"
   ]
  },
  {
   "cell_type": "code",
   "execution_count": 7,
   "metadata": {},
   "outputs": [
    {
     "name": "stdout",
     "output_type": "stream",
     "text": [
      "These are the most common lemmas in the text.\n",
      "[('laser', 40), ('headlight', 28), ('beam', 12), ('led', 11), ('technology', 10)]\n"
     ]
    }
   ],
   "source": [
    "def we_care_about(token):\n",
    "    return not (token.is_space or token.is_punct or token.is_stop)\n",
    "\n",
    "\n",
    "lemmas = [token.lemma_.lower() for token in doc if we_care_about(token)]\n",
    "lemma_freq = Counter(lemmas)\n",
    "print('These are the most common lemmas in the text.')\n",
    "print(lemma_freq.most_common(5))\n",
    "    "
   ]
  },
  {
   "cell_type": "markdown",
   "metadata": {},
   "source": [
    "5. Define the following methods:\n",
    "    * `score_sentence_by_token(sentence, interesting_token)` that takes a sentence and a list of interesting token and returns the number of times that any of the interesting words appear in the sentence divided by the number of words in the sentence\n",
    "    * `score_sentence_by_lemma(sentence, interesting_lemmas)` that takes a sentence and a list of interesting lemmas and returns the number of times that any of the interesting lemmas appear in the sentence divided by the number of words in the sentence\n",
    "    \n",
    "You may find some of the code from the in class notes useful; feel free to use methods (rewrite them in this cell as well).  Test them by showing the score of the first sentence in your article using the frequent tokens and frequent lemmas identified in question 3."
   ]
  },
  {
   "cell_type": "markdown",
   "metadata": {},
   "source": [
    "# Answer Question 5"
   ]
  },
  {
   "cell_type": "code",
   "execution_count": 13,
   "metadata": {},
   "outputs": [
    {
     "name": "stdout",
     "output_type": "stream",
     "text": [
      "This is the actual first sentence in the text.  Sentence index of 0 is the title of the article.\n",
      "When we think about the onward march of automotive technology, headlights aren’t usually the first thing that come to mind.\n"
     ]
    },
    {
     "data": {
      "text/plain": [
       "0.09523809523809523"
      ]
     },
     "execution_count": 13,
     "metadata": {},
     "output_type": "execute_result"
    }
   ],
   "source": [
    "top_tokens = ['laser', 'headlights', 'technology', 'headlight', 'led'] #The words we are testing\n",
    "sentences = list(doc.sents)\n",
    "#Finding the word count of a sentence.\n",
    "def wordCount(sentence):\n",
    "    for count in sentences:\n",
    "        count1 = 0\n",
    "        for token in sentence:\n",
    "            if not (token.is_space or token.is_punct):\n",
    "                count1 +=1\n",
    "    sent_str = str(sentence).replace('\\n','').replace('  ',' ')\n",
    "    return count1\n",
    "\n",
    "print('This is the actual first sentence in the text.  Sentence index of 0 is the title of the article.')\n",
    "print(sentences[1]) #Printing the sentence we are testing\n",
    "\n",
    "#Here is our function that gives the score.        \n",
    "def score_sentence_by_tokens(sentence, interesting_token):\n",
    "    for count in sentences:\n",
    "        count3 = 0 \n",
    "        for token in sentence:\n",
    "            if (token.text.lower() in interesting_token):\n",
    "                count3 +=1\n",
    "    return count3/wordCount(sentence)\n",
    "\n",
    "score_sentence_by_tokens(sentences[1], top_tokens) #Here is the test of the function\n",
    "    \n",
    "#The score is 2/21.  Two tokens in the list divided by the 21 words in the sentence.        "
   ]
  },
  {
   "cell_type": "code",
   "execution_count": 14,
   "metadata": {},
   "outputs": [
    {
     "name": "stdout",
     "output_type": "stream",
     "text": [
      "This is the actual first sentence in the text.  Sentence index of 0 is the title of the article.\n",
      "When we think about the onward march of automotive technology, headlights aren’t usually the first thing that come to mind.\n"
     ]
    },
    {
     "data": {
      "text/plain": [
       "0.09523809523809523"
      ]
     },
     "execution_count": 14,
     "metadata": {},
     "output_type": "execute_result"
    }
   ],
   "source": [
    "top_lemmas = ['laser', 'headlight', 'beam', 'technology', 'light'] #The lemmas we are testing\n",
    "\n",
    "#Finding the word count of a sentence.\n",
    "def wordCount(sentence):\n",
    "    for count in sentences:\n",
    "        count1 = 0\n",
    "        for token in sentence:\n",
    "            if not (token.is_space or token.is_punct):\n",
    "                count1 +=1\n",
    "    sent_str = str(sentence).replace('\\n','').replace('  ',' ')\n",
    "    return count1\n",
    "\n",
    "print('This is the actual first sentence in the text.  Sentence index of 0 is the title of the article.')\n",
    "print(sentences[1]) #Printing the sentence we are testing\n",
    "\n",
    "#Here is our function that gives the score.        \n",
    "def score_sentence_by_lemma(sentence, interesting_lemma):\n",
    "    for count in sentences:\n",
    "        count3 = 0 \n",
    "        for token in sentence:\n",
    "            if (token.lemma_.lower() in interesting_lemma):\n",
    "                count3 +=1\n",
    "    return count3/wordCount(sentence)\n",
    "\n",
    "score_sentence_by_lemma(sentences[1], top_lemmas) #Here is the test of the function\n",
    "    \n",
    "#Notice that the scores for tokens and lemmas are the same.\n",
    "#Notice that headlights is not in the list, but it is a lemma of headlight so it is still in our count.  "
   ]
  },
  {
   "cell_type": "markdown",
   "metadata": {},
   "source": [
    "# Answer Question 6"
   ]
  },
  {
   "cell_type": "markdown",
   "metadata": {},
   "source": [
    "6. Make a list containing the scores (using tokens) of every sentence in the article, and plot a histogram with appropriate titles and axis labels of the scores. From your histogram, what seems to be the most common range of scores (put the answer in a comment after your code)?"
   ]
  },
  {
   "cell_type": "code",
   "execution_count": 127,
   "metadata": {},
   "outputs": [
    {
     "name": "stdout",
     "output_type": "stream",
     "text": [
      "[0.16666666666666666, 0.09523809523809523, 0.0, 0.0, 0.038461538461538464, 0.1, 1.0, 0.25, 0.13043478260869565, 0.0, 0.14285714285714285, 0.25, 0.0, 0.045454545454545456, 0.2222222222222222, 0.0, 0.1875, 0.15, 0.09090909090909091, 0.07692307692307693, 0.05263157894736842, 0.0, 0.045454545454545456, 0.07407407407407407, 0.038461538461538464, 0.0, 0.03333333333333333, 0.29411764705882354, 0.05555555555555555, 0.0, 0.14285714285714285, 0.15151515151515152, 0.05263157894736842, 0.05555555555555555, 0.12903225806451613, 0.0, 0.0, 0.0, 0.07142857142857142, 0.07142857142857142, 0.0, 0.0, 0.04, 0.05555555555555555, 0.125, 0.07317073170731707, 0.03225806451612903, 0.08333333333333333, 0.1111111111111111, 0.04, 0.12, 0.06060606060606061, 0.08695652173913043, 0.07407407407407407, 0.0, 0.0, 0.4]\n"
     ]
    }
   ],
   "source": [
    "results = list()\n",
    "for i in range(len(sentences)):\n",
    "    results.append(score_sentence_by_tokens(sentences[i], top_tokens))\n",
    "    \n",
    "print(results)"
   ]
  },
  {
   "cell_type": "code",
   "execution_count": 76,
   "metadata": {},
   "outputs": [],
   "source": [
    "import matplotlib as mpl\n",
    "import matplotlib.pyplot as plt\n",
    "import numpy as np"
   ]
  },
  {
   "cell_type": "code",
   "execution_count": 129,
   "metadata": {},
   "outputs": [
    {
     "data": {
      "image/png": "[encoded data removed]",
      "text/plain": [
       "<Figure size 640x480 with 1 Axes>"
      ]
     },
     "metadata": {},
     "output_type": "display_data"
    }
   ],
   "source": [
    "plt.hist(results, bins = 20, edgecolor = 'black')\n",
    "plt.title('Histogram of Sentence Scores for Tokens')\n",
    "plt.xlabel('Scores')\n",
    "plt.ylabel('Number of Occurrences')\n",
    "plt.tight_layout()\n",
    "\n",
    "#The most common range of scores for tokens in the sentences is from .0 to .05.  \n",
    "\n"
   ]
  },
  {
   "cell_type": "markdown",
   "metadata": {},
   "source": [
    "7. Make a list containing the scores (using lemmas) of every sentence in the article, and plot a histogram with appropriate titles and axis labels of the scores.  From your histogram, what seems to be the most common range of scores (put the answer in a comment after your code)?"
   ]
  },
  {
   "cell_type": "markdown",
   "metadata": {},
   "source": [
    "# Answer Question 7"
   ]
  },
  {
   "cell_type": "code",
   "execution_count": 121,
   "metadata": {},
   "outputs": [
    {
     "name": "stdout",
     "output_type": "stream",
     "text": [
      "[0.08333333333333333, 0.09523809523809523, 0.0, 0.0, 0.07692307692307693, 0.2, 0.5, 0.25, 0.17391304347826086, 0.09523809523809523, 0.14285714285714285, 0.25, 0.0625, 0.09090909090909091, 0.2222222222222222, 0.045454545454545456, 0.1875, 0.15, 0.09090909090909091, 0.11538461538461539, 0.05263157894736842, 0.1, 0.045454545454545456, 0.1111111111111111, 0.038461538461538464, 0.0, 0.03333333333333333, 0.23529411764705882, 0.05555555555555555, 0.0, 0.09523809523809523, 0.12121212121212122, 0.05263157894736842, 0.05555555555555555, 0.06451612903225806, 0.0, 0.0, 0.0, 0.07142857142857142, 0.14285714285714285, 0.05714285714285714, 0.0, 0.04, 0.05555555555555555, 0.125, 0.14634146341463414, 0.06451612903225806, 0.08333333333333333, 0.1111111111111111, 0.04, 0.12, 0.030303030303030304, 0.13043478260869565, 0.07407407407407407, 0.041666666666666664, 0.045454545454545456, 0.4666666666666667]\n"
     ]
    }
   ],
   "source": [
    "results1 = list()\n",
    "for i in range(len(sentences)):\n",
    "    results1.append(score_sentence_by_lemma(sentences[i], top_lemmas))\n",
    "    \n",
    "print(results)"
   ]
  },
  {
   "cell_type": "code",
   "execution_count": 133,
   "metadata": {},
   "outputs": [
    {
     "data": {
      "image/png": "[encoded data removed]",
      "text/plain": [
       "<Figure size 640x480 with 1 Axes>"
      ]
     },
     "metadata": {},
     "output_type": "display_data"
    }
   ],
   "source": [
    "plt.hist(results1, bins = 20, edgecolor = 'black')\n",
    "plt.title('Histogram of Sentence Scores for Lemmas')\n",
    "plt.xlabel('Scores')\n",
    "plt.ylabel('Number of Occurrences')\n",
    "plt.tight_layout()\n",
    "\n",
    "# The most common range of lemma scores is from .05 to .075.  \n"
   ]
  },
  {
   "cell_type": "markdown",
   "metadata": {},
   "source": [
    "8. Which tokens and lexems would be ommitted from the lists generated in questions 3 and 4 if we only wanted to consider nouns as interesting words?  How might we change the code to only consider nouns? Put your answer in this Markdown cell (you can edit it by double clicking it)."
   ]
  },
  {
   "cell_type": "markdown",
   "metadata": {},
   "source": [
    "# Answer Question 8"
   ]
  },
  {
   "cell_type": "markdown",
   "metadata": {},
   "source": [
    "I guess in certain instances we could use laser or beam as verbs.  'led' would probably be an adjective and would be ommitted. We would use token.pos_ == 'NOUN' in the same portion of the code where we got rid of our punctuation and stop words.  "
   ]
  }
 ],
 "metadata": {
  "kernelspec": {
   "display_name": "Python 3 (ipykernel)",
   "language": "python",
   "name": "python3"
  },
  "language_info": {
   "codemirror_mode": {
    "name": "ipython",
    "version": 3
   },
   "file_extension": ".py",
   "mimetype": "text/x-python",
   "name": "python",
   "nbconvert_exporter": "python",
   "pygments_lexer": "ipython3",
   "version": "3.9.12"
  }
 },
 "nbformat": 4,
 "nbformat_minor": 4
}
